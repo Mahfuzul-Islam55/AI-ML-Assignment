{
  "nbformat": 4,
  "nbformat_minor": 0,
  "metadata": {
    "colab": {
      "provenance": []
    },
    "kernelspec": {
      "name": "python3",
      "display_name": "Python 3"
    },
    "language_info": {
      "name": "python"
    },
    "accelerator": "GPU",
    "gpuClass": "standard"
  },
  "cells": [
    {
      "cell_type": "markdown",
      "source": [
        "# import lib"
      ],
      "metadata": {
        "id": "rgo8CcVWEei7"
      }
    },
    {
      "cell_type": "code",
      "execution_count": null,
      "metadata": {
        "id": "LH6-sQQGDC2D"
      },
      "outputs": [],
      "source": [
        "import numpy as np\n",
        "import matplotlib.pyplot as plt\n",
        "import os\n",
        "import cv2\n",
        "from PIL import Image\n",
        "import keras\n",
        "os.environ['KERAS_BACKEND'] = 'tensorflow'"
      ]
    },
    {
      "cell_type": "markdown",
      "source": [
        "## data loading"
      ],
      "metadata": {
        "id": "o1pysQGRDXOx"
      }
    },
    {
      "cell_type": "code",
      "source": [
        "from google.colab import drive\n",
        "drive.mount(\"/content/gdrive/\")"
      ],
      "metadata": {
        "colab": {
          "base_uri": "https://localhost:8080/"
        },
        "id": "ZHDLalitDF3o",
        "outputId": "44e8b1b0-67f5-49f8-b6d9-b1617916489a"
      },
      "execution_count": null,
      "outputs": [
        {
          "output_type": "stream",
          "name": "stdout",
          "text": [
            "Mounted at /content/gdrive/\n"
          ]
        }
      ]
    },
    {
      "cell_type": "markdown",
      "source": [],
      "metadata": {
        "id": "xuCfwqnnEbhw"
      }
    },
    {
      "cell_type": "code",
      "source": [
        "\n",
        "image_directory = '/content/gdrive/MyDrive/aiml_lab/'\n",
        "SIZE = 64\n",
        "dataset = []  \n",
        "label = []  \n"
      ],
      "metadata": {
        "id": "rp1CB4pKDF6q"
      },
      "execution_count": null,
      "outputs": []
    },
    {
      "cell_type": "markdown",
      "source": [
        "### AbdomenCT_img "
      ],
      "metadata": {
        "id": "Vu1zXoXnMipI"
      }
    },
    {
      "cell_type": "code",
      "source": [
        "AbdomenCityScan_image = os.listdir(image_directory + 'AbdomenCT/')\n",
        "for i, image_name in enumerate(AbdomenCityScan_image):    \n",
        "    \n",
        "    if (image_name.split('.')[1] == 'jpeg'):\n",
        "        img = cv2.imread(image_directory + 'AbdomenCT/' + image_name)\n",
        "        img = Image.fromarray(img, 'RGB')\n",
        "        img = img.resize((SIZE, SIZE))\n",
        "        dataset.append(np.array(img))\n",
        "        label.append(0)\n"
      ],
      "metadata": {
        "id": "dKf-HuA0DF9g"
      },
      "execution_count": null,
      "outputs": []
    },
    {
      "cell_type": "markdown",
      "source": [
        "### CXR_img"
      ],
      "metadata": {
        "id": "67CdGw2uMqwd"
      }
    },
    {
      "cell_type": "code",
      "source": [
        "ChestXR_image = os.listdir(image_directory + 'CXR/')\n",
        "for i, image_name in enumerate(ChestXR_image):\n",
        "    if (image_name.split('.')[1] == 'jpeg'):\n",
        "        img = cv2.imread(image_directory + 'CXR/' + image_name)\n",
        "        img = Image.fromarray(img, 'RGB')\n",
        "        img = img.resize((SIZE, SIZE))\n",
        "        dataset.append(np.array(img))\n",
        "        label.append(1)\n"
      ],
      "metadata": {
        "id": "HFyzv0hiDGF5"
      },
      "execution_count": null,
      "outputs": []
    },
    {
      "cell_type": "markdown",
      "source": [
        "### chestct_img"
      ],
      "metadata": {
        "id": "suW9aUnmMtLv"
      }
    },
    {
      "cell_type": "code",
      "source": [
        "ChestCityScan_image = os.listdir(image_directory + 'ChestCT/')\n",
        "for i, image_name in enumerate(ChestCityScan_image):\n",
        "    if (image_name.split('.')[1] == 'jpeg'):\n",
        "        img = cv2.imread(image_directory + 'ChestCT/' + image_name)\n",
        "        img = Image.fromarray(img, 'RGB')\n",
        "        img = img.resize((SIZE, SIZE))\n",
        "        dataset.append(np.array(img))\n",
        "        label.append(2)"
      ],
      "metadata": {
        "id": "fn8muXR4FbvD"
      },
      "execution_count": null,
      "outputs": []
    },
    {
      "cell_type": "markdown",
      "source": [
        "### hand_img"
      ],
      "metadata": {
        "id": "f93rAI2rMvbi"
      }
    },
    {
      "cell_type": "code",
      "source": [
        "Hand_image = os.listdir(image_directory + 'Hand/')\n",
        "for i, image_name in enumerate(Hand_image):\n",
        "    if (image_name.split('.')[1] == 'jpeg'):\n",
        "        img = cv2.imread(image_directory + 'Hand/' + image_name)\n",
        "        img = Image.fromarray(img, 'RGB')\n",
        "        img = img.resize((SIZE, SIZE))\n",
        "        dataset.append(np.array(img))\n",
        "        label.append(3)"
      ],
      "metadata": {
        "id": "7RPdJ3TVFa1j"
      },
      "execution_count": null,
      "outputs": []
    },
    {
      "cell_type": "markdown",
      "source": [
        "Headct_img"
      ],
      "metadata": {
        "id": "LUtyn1uBMxe4"
      }
    },
    {
      "cell_type": "code",
      "source": [
        "HeadCityScan_image = os.listdir(image_directory + 'HeadCT/')\n",
        "for i, image_name in enumerate(HeadCityScan_image):\n",
        "    if (image_name.split('.')[1] == 'jpeg'):\n",
        "        img = cv2.imread(image_directory + 'HeadCT/' + image_name)\n",
        "        img = Image.fromarray(img, 'RGB')\n",
        "        img = img.resize((SIZE, SIZE))\n",
        "        dataset.append(np.array(img))\n",
        "        label.append(4)\n"
      ],
      "metadata": {
        "id": "WX7b2S4tFbYq"
      },
      "execution_count": null,
      "outputs": []
    },
    {
      "cell_type": "markdown",
      "source": [
        "## model "
      ],
      "metadata": {
        "id": "639M8zV7GEDT"
      }
    },
    {
      "cell_type": "code",
      "source": [
        "INPUT_SHAPE = (SIZE, SIZE, 3)   \n",
        "inp = keras.layers.Input(shape=INPUT_SHAPE)\n",
        "\n",
        "conv1 = keras.layers.Conv2D(32, kernel_size=(3, 3), \n",
        "                               activation='relu', padding='same')(inp)\n",
        "pool1 = keras.layers.MaxPooling2D(pool_size=(2, 2))(conv1)\n",
        "norm1 = keras.layers.BatchNormalization(axis = -1)(pool1)\n",
        "drop1 = keras.layers.Dropout(rate=0.2)(norm1)\n",
        "conv2 = keras.layers.Conv2D(32, kernel_size=(3, 3), \n",
        "                               activation='relu', padding='same')(drop1)\n",
        "pool2 = keras.layers.MaxPooling2D(pool_size=(2, 2))(conv2)\n",
        "norm2 = keras.layers.BatchNormalization(axis = -1)(pool2)\n",
        "drop2 = keras.layers.Dropout(rate=0.2)(norm2)\n",
        "\n",
        "flat = keras.layers.Flatten()(drop2)  \n",
        "\n",
        "hidden1 = keras.layers.Dense(512, activation='relu')(flat)\n",
        "norm3 = keras.layers.BatchNormalization(axis = -1)(hidden1)\n",
        "drop3 = keras.layers.Dropout(rate=0.2)(norm3)\n",
        "hidden2 = keras.layers.Dense(256, activation='relu')(drop3)\n",
        "norm4 = keras.layers.BatchNormalization(axis = -1)(hidden2)\n",
        "drop4 = keras.layers.Dropout(rate=0.2)(norm4)\n",
        "\n",
        "out = keras.layers.Dense(5, activation='softmax')(drop4)  \n"
      ],
      "metadata": {
        "id": "4P0sBsW9DGJD"
      },
      "execution_count": null,
      "outputs": []
    },
    {
      "cell_type": "code",
      "source": [
        "model = keras.Model(inputs=inp, outputs=out)"
      ],
      "metadata": {
        "id": "gctdwD5tDGMB"
      },
      "execution_count": null,
      "outputs": []
    },
    {
      "cell_type": "code",
      "source": [
        "model.compile(optimizer='adam',\n",
        "                loss='categorical_crossentropy',  \n",
        "                metrics=['accuracy'])\n",
        "print(model.summary())"
      ],
      "metadata": {
        "colab": {
          "base_uri": "https://localhost:8080/"
        },
        "id": "knnC834sDGPJ",
        "outputId": "c22bad4f-7cda-4b71-921f-5060bccbcac4"
      },
      "execution_count": null,
      "outputs": [
        {
          "output_type": "stream",
          "name": "stdout",
          "text": [
            "Model: \"model\"\n",
            "_________________________________________________________________\n",
            " Layer (type)                Output Shape              Param #   \n",
            "=================================================================\n",
            " input_1 (InputLayer)        [(None, 64, 64, 3)]       0         \n",
            "                                                                 \n",
            " conv2d (Conv2D)             (None, 64, 64, 32)        896       \n",
            "                                                                 \n",
            " max_pooling2d (MaxPooling2D  (None, 32, 32, 32)       0         \n",
            " )                                                               \n",
            "                                                                 \n",
            " batch_normalization (BatchN  (None, 32, 32, 32)       128       \n",
            " ormalization)                                                   \n",
            "                                                                 \n",
            " dropout (Dropout)           (None, 32, 32, 32)        0         \n",
            "                                                                 \n",
            " conv2d_1 (Conv2D)           (None, 32, 32, 32)        9248      \n",
            "                                                                 \n",
            " max_pooling2d_1 (MaxPooling  (None, 16, 16, 32)       0         \n",
            " 2D)                                                             \n",
            "                                                                 \n",
            " batch_normalization_1 (Batc  (None, 16, 16, 32)       128       \n",
            " hNormalization)                                                 \n",
            "                                                                 \n",
            " dropout_1 (Dropout)         (None, 16, 16, 32)        0         \n",
            "                                                                 \n",
            " flatten (Flatten)           (None, 8192)              0         \n",
            "                                                                 \n",
            " dense (Dense)               (None, 512)               4194816   \n",
            "                                                                 \n",
            " batch_normalization_2 (Batc  (None, 512)              2048      \n",
            " hNormalization)                                                 \n",
            "                                                                 \n",
            " dropout_2 (Dropout)         (None, 512)               0         \n",
            "                                                                 \n",
            " dense_1 (Dense)             (None, 256)               131328    \n",
            "                                                                 \n",
            " batch_normalization_3 (Batc  (None, 256)              1024      \n",
            " hNormalization)                                                 \n",
            "                                                                 \n",
            " dropout_3 (Dropout)         (None, 256)               0         \n",
            "                                                                 \n",
            " dense_2 (Dense)             (None, 5)                 1285      \n",
            "                                                                 \n",
            "=================================================================\n",
            "Total params: 4,340,901\n",
            "Trainable params: 4,339,237\n",
            "Non-trainable params: 1,664\n",
            "_________________________________________________________________\n",
            "None\n"
          ]
        }
      ]
    },
    {
      "cell_type": "markdown",
      "source": [
        "## spliting data 70 30"
      ],
      "metadata": {
        "id": "Pi002I9aD-3L"
      }
    },
    {
      "cell_type": "code",
      "source": [
        "from sklearn.model_selection import train_test_split\n",
        "from keras.utils import to_categorical\n",
        "\n",
        "X_train, X_test, y_train, y_test = train_test_split(dataset, to_categorical(np.array(label)), test_size = 0.30, random_state = 1000)\n"
      ],
      "metadata": {
        "id": "KQq0cxHaDGSB"
      },
      "execution_count": null,
      "outputs": []
    },
    {
      "cell_type": "code",
      "source": [
        "history = model.fit(np.array(X_train), \n",
        "                         y_train, \n",
        "                         batch_size = 64, \n",
        "                         verbose = 1, \n",
        "                         epochs = 10,     \n",
        "                         validation_split = 0.1,\n",
        "                         shuffle = False\n",
        "                     \n",
        "                     )"
      ],
      "metadata": {
        "colab": {
          "base_uri": "https://localhost:8080/"
        },
        "id": "mZzR47TODGU4",
        "outputId": "6c59944b-e478-41c3-dab9-cbd60f0af658"
      },
      "execution_count": null,
      "outputs": [
        {
          "output_type": "stream",
          "name": "stdout",
          "text": [
            "Epoch 1/10\n",
            "493/493 [==============================] - 18s 12ms/step - loss: 0.0312 - accuracy: 0.9900 - val_loss: 0.0130 - val_accuracy: 0.9969\n",
            "Epoch 2/10\n",
            "493/493 [==============================] - 6s 13ms/step - loss: 0.0060 - accuracy: 0.9984 - val_loss: 0.0058 - val_accuracy: 0.9977\n",
            "Epoch 3/10\n",
            "493/493 [==============================] - 5s 11ms/step - loss: 0.0029 - accuracy: 0.9992 - val_loss: 0.6065 - val_accuracy: 0.8016\n",
            "Epoch 4/10\n",
            "493/493 [==============================] - 6s 12ms/step - loss: 0.0095 - accuracy: 0.9968 - val_loss: 0.0106 - val_accuracy: 0.9971\n",
            "Epoch 5/10\n",
            "493/493 [==============================] - 7s 14ms/step - loss: 0.0025 - accuracy: 0.9992 - val_loss: 0.0080 - val_accuracy: 0.9983\n",
            "Epoch 6/10\n",
            "493/493 [==============================] - 6s 11ms/step - loss: 0.0012 - accuracy: 0.9995 - val_loss: 0.0084 - val_accuracy: 0.9977\n",
            "Epoch 7/10\n",
            "493/493 [==============================] - 6s 13ms/step - loss: 0.0022 - accuracy: 0.9994 - val_loss: 0.0133 - val_accuracy: 0.9969\n",
            "Epoch 8/10\n",
            "493/493 [==============================] - 6s 11ms/step - loss: 0.0020 - accuracy: 0.9993 - val_loss: 0.0253 - val_accuracy: 0.9946\n",
            "Epoch 9/10\n",
            "493/493 [==============================] - 6s 12ms/step - loss: 0.0023 - accuracy: 0.9994 - val_loss: 0.0111 - val_accuracy: 0.9963\n",
            "Epoch 10/10\n",
            "493/493 [==============================] - 6s 12ms/step - loss: 2.4074e-04 - accuracy: 1.0000 - val_loss: 0.0066 - val_accuracy: 0.9983\n"
          ]
        }
      ]
    },
    {
      "cell_type": "code",
      "source": [
        "print(\"Our Test_Accuracy: {:.2f}%\".format(model.evaluate(np.array(X_test), np.array(y_test))[1]*100))\n"
      ],
      "metadata": {
        "colab": {
          "base_uri": "https://localhost:8080/"
        },
        "id": "H2ICEIcqDGXp",
        "outputId": "1bb25909-7c4e-4529-8bb1-5dc1fec622b3"
      },
      "execution_count": null,
      "outputs": [
        {
          "output_type": "stream",
          "name": "stdout",
          "text": [
            "470/470 [==============================] - 2s 4ms/step - loss: 0.0031 - accuracy: 0.9995\n",
            "Test_Accuracy: 99.95%\n"
          ]
        }
      ]
    },
    {
      "cell_type": "code",
      "source": [
        "\n",
        "f, (ax1, ax2) = plt.subplots(1, 2, figsize=(12, 4))\n",
        "t = f.suptitle('The CNN Performance', fontsize=12)\n",
        "f.subplots_adjust(top=0.85, wspace=0.3)\n",
        "\n",
        "max_epoch = len(history.history['the accuracy'])+1\n",
        "epoch_list = list(range(1,max_epoch))\n",
        "ax1.plot(epoch_list, history.history['the accuracy'], label='Train Accuracy')\n",
        "ax1.plot(epoch_list, history.history['val_accuracy'], label='Validation Accuracy')\n",
        "ax1.set_xticks(np.arange(1, max_epoch, 5))\n",
        "ax1.set_ylabel('The Accuracy Value')\n",
        "ax1.set_xlabel('Epoch')\n",
        "ax1.set_title('The Accuracy')\n",
        "l1 = ax1.legend(loc=\"best\")\n",
        "\n",
        "ax2.plot(epoch_list, history.history['loss'], label='Train Loss')\n",
        "ax2.plot(epoch_list, history.history['val_loss'], label='Validation Loss')\n",
        "ax2.set_xticks(np.arange(1, max_epoch, 5))\n",
        "ax2.set_ylabel('Loss Value')\n",
        "ax2.set_xlabel('Epoch')\n",
        "ax2.set_title('Loss')\n",
        "l2 = ax2.legend(loc=\"best\")\n"
      ],
      "metadata": {
        "colab": {
          "base_uri": "https://localhost:8080/",
          "height": 308
        },
        "id": "8JCZPxFVDGbD",
        "outputId": "904ed667-2a25-4d8f-965d-4182f584eab2"
      },
      "execution_count": null,
      "outputs": [
        {
          "output_type": "display_data",
          "data": {
            "text/plain": [
              "<Figure size 864x288 with 2 Axes>"
            ],
            "image/png": "[encoded data removed]"
          },
          "metadata": {
            "needs_background": "light"
          }
        }
      ]
    }
  ]
}